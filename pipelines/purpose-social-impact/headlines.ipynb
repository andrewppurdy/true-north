{
 "cells": [
  {
   "cell_type": "code",
   "execution_count": 1,
   "metadata": {},
   "outputs": [],
   "source": [
    "import os\n",
    "os.chdir('../..')"
   ]
  },
  {
   "cell_type": "code",
   "execution_count": 2,
   "metadata": {},
   "outputs": [],
   "source": [
    "from pipelines.util import *\n",
    "import pandas as pd"
   ]
  },
  {
   "cell_type": "code",
   "execution_count": 3,
   "metadata": {},
   "outputs": [],
   "source": [
    "levelling_up = pd.read_csv('src/themes/purpose-social-impact/levelling-up/_data/levelling_up.csv')"
   ]
  },
  {
   "cell_type": "code",
   "execution_count": 4,
   "metadata": {},
   "outputs": [],
   "source": [
    "max_total_grant = levelling_up.sort_values(by='Total (£)', ascending=False).iloc[0]\n",
    "top_total= max_total_grant['Total (£)']\n",
    "top_total_la_name = max_total_grant['LA name']"
   ]
  },
  {
   "cell_type": "code",
   "execution_count": 5,
   "metadata": {},
   "outputs": [],
   "source": [
    "max_per_capita = levelling_up.sort_values(by='Per capita (£)', ascending=False).iloc[1] # taking the second highest as Isles of Scilly has such a small population\n",
    "top_per_capita = max_per_capita['Per capita (£)']\n",
    "top_per_capita_la_name = max_per_capita['LA name']"
   ]
  },
  {
   "cell_type": "code",
   "execution_count": 6,
   "metadata": {},
   "outputs": [
    {
     "data": {
      "text/html": [
       "<div>\n",
       "<style scoped>\n",
       "    .dataframe tbody tr th:only-of-type {\n",
       "        vertical-align: middle;\n",
       "    }\n",
       "\n",
       "    .dataframe tbody tr th {\n",
       "        vertical-align: top;\n",
       "    }\n",
       "\n",
       "    .dataframe thead th {\n",
       "        text-align: right;\n",
       "    }\n",
       "</style>\n",
       "<table border=\"1\" class=\"dataframe\">\n",
       "  <thead>\n",
       "    <tr style=\"text-align: right;\">\n",
       "      <th></th>\n",
       "      <th>name</th>\n",
       "      <th>value</th>\n",
       "      <th>pre</th>\n",
       "      <th>post</th>\n",
       "      <th>footnote</th>\n",
       "    </tr>\n",
       "  </thead>\n",
       "  <tbody>\n",
       "    <tr>\n",
       "      <th>0</th>\n",
       "      <td>Highest total funding</td>\n",
       "      <td>56000000.00</td>\n",
       "      <td>£</td>\n",
       "      <td></td>\n",
       "      <td>Stoke-on-Trent</td>\n",
       "    </tr>\n",
       "    <tr>\n",
       "      <th>1</th>\n",
       "      <td>Highest funding per person</td>\n",
       "      <td>251.74</td>\n",
       "      <td>£</td>\n",
       "      <td></td>\n",
       "      <td>Forest of Dean</td>\n",
       "    </tr>\n",
       "  </tbody>\n",
       "</table>\n",
       "</div>"
      ],
      "text/plain": [
       "                         name        value pre post        footnote\n",
       "0       Highest total funding  56000000.00   £       Stoke-on-Trent\n",
       "1  Highest funding per person       251.74   £       Forest of Dean"
      ]
     },
     "execution_count": 6,
     "metadata": {},
     "output_type": "execute_result"
    }
   ],
   "source": [
    "headlines = pd.DataFrame(\n",
    "    data=[\n",
    "        ['Highest total funding', top_total, '£', '', top_total_la_name],\n",
    "        ['Highest funding per person', top_per_capita, '£', '', top_per_capita_la_name]\n",
    "          ],\n",
    "    columns=['name', 'value', 'pre', 'post', 'footnote'])\n",
    "headlines"
   ]
  },
  {
   "cell_type": "code",
   "execution_count": 7,
   "metadata": {},
   "outputs": [],
   "source": [
    "headlines.to_csv('src/themes/purpose-social-impact/levelling-up/_data/headlines.csv', index=False)"
   ]
  }
 ],
 "metadata": {
  "kernelspec": {
   "display_name": "true-north-n9oHZhgB",
   "language": "python",
   "name": "python3"
  },
  "language_info": {
   "codemirror_mode": {
    "name": "ipython",
    "version": 3
   },
   "file_extension": ".py",
   "mimetype": "text/x-python",
   "name": "python",
   "nbconvert_exporter": "python",
   "pygments_lexer": "ipython3",
   "version": "3.12.3"
  }
 },
 "nbformat": 4,
 "nbformat_minor": 2
}
