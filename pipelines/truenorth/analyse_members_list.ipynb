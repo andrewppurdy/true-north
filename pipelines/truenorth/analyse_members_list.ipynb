{
 "cells": [
  {
   "cell_type": "code",
   "execution_count": 1,
   "metadata": {},
   "outputs": [],
   "source": [
    "import os\n",
    "os.chdir('../..')\n",
    "from pipelines.util import *\n",
    "import pandas as pd\n",
    "from datetime import datetime"
   ]
  },
  {
   "cell_type": "code",
   "execution_count": 2,
   "metadata": {},
   "outputs": [],
   "source": [
    "data = pd.read_csv(os.path.join(WDIR, 'true-north/true_north_may_2024_clean.csv'))"
   ]
  },
  {
   "cell_type": "code",
   "execution_count": 3,
   "metadata": {},
   "outputs": [
    {
     "data": {
      "text/html": [
       "<div>\n",
       "<style scoped>\n",
       "    .dataframe tbody tr th:only-of-type {\n",
       "        vertical-align: middle;\n",
       "    }\n",
       "\n",
       "    .dataframe tbody tr th {\n",
       "        vertical-align: top;\n",
       "    }\n",
       "\n",
       "    .dataframe thead th {\n",
       "        text-align: right;\n",
       "    }\n",
       "</style>\n",
       "<table border=\"1\" class=\"dataframe\">\n",
       "  <thead>\n",
       "    <tr style=\"text-align: right;\">\n",
       "      <th></th>\n",
       "      <th>last_updated</th>\n",
       "      <th>Create Date</th>\n",
       "      <th>Do you feel the True North report identified the key challenges and opportunities facing the region?</th>\n",
       "      <th>Are you interested in attending future True North events?</th>\n",
       "      <th>Are you currently a B Corp or in the process of becoming a B Corp?</th>\n",
       "      <th>Would you be interested in hearing more from Brabners about the B Corp process?</th>\n",
       "      <th>Company name</th>\n",
       "      <th>City</th>\n",
       "      <th>Industry</th>\n",
       "      <th>sector</th>\n",
       "      <th>location</th>\n",
       "      <th>Which theme of the True North report do you most identify with and could support activity around?</th>\n",
       "      <th>How would you like to be involved with the True North network?</th>\n",
       "      <th>company_size</th>\n",
       "    </tr>\n",
       "  </thead>\n",
       "  <tbody>\n",
       "    <tr>\n",
       "      <th>count</th>\n",
       "      <td>188</td>\n",
       "      <td>188</td>\n",
       "      <td>188</td>\n",
       "      <td>187</td>\n",
       "      <td>186</td>\n",
       "      <td>186</td>\n",
       "      <td>176</td>\n",
       "      <td>141</td>\n",
       "      <td>132</td>\n",
       "      <td>188</td>\n",
       "      <td>47</td>\n",
       "      <td>188</td>\n",
       "      <td>47</td>\n",
       "      <td>47</td>\n",
       "    </tr>\n",
       "    <tr>\n",
       "      <th>unique</th>\n",
       "      <td>177</td>\n",
       "      <td>161</td>\n",
       "      <td>2</td>\n",
       "      <td>2</td>\n",
       "      <td>2</td>\n",
       "      <td>2</td>\n",
       "      <td>165</td>\n",
       "      <td>70</td>\n",
       "      <td>50</td>\n",
       "      <td>146</td>\n",
       "      <td>19</td>\n",
       "      <td>13</td>\n",
       "      <td>7</td>\n",
       "      <td>7</td>\n",
       "    </tr>\n",
       "    <tr>\n",
       "      <th>top</th>\n",
       "      <td>2022-03-28 00:29:00</td>\n",
       "      <td>2022-03-28 00:29:00</td>\n",
       "      <td>Yes</td>\n",
       "      <td>Yes</td>\n",
       "      <td>No</td>\n",
       "      <td>No</td>\n",
       "      <td>Brabners LLP</td>\n",
       "      <td>London</td>\n",
       "      <td>Legal Services</td>\n",
       "      <td>Legal</td>\n",
       "      <td>Lancashire</td>\n",
       "      <td>People, skills and the future</td>\n",
       "      <td>Keeping informed about the latest True North n...</td>\n",
       "      <td>0-9</td>\n",
       "    </tr>\n",
       "    <tr>\n",
       "      <th>freq</th>\n",
       "      <td>7</td>\n",
       "      <td>21</td>\n",
       "      <td>181</td>\n",
       "      <td>185</td>\n",
       "      <td>157</td>\n",
       "      <td>100</td>\n",
       "      <td>5</td>\n",
       "      <td>19</td>\n",
       "      <td>12</td>\n",
       "      <td>7</td>\n",
       "      <td>9</td>\n",
       "      <td>58</td>\n",
       "      <td>18</td>\n",
       "      <td>21</td>\n",
       "    </tr>\n",
       "  </tbody>\n",
       "</table>\n",
       "</div>"
      ],
      "text/plain": [
       "               last_updated          Create Date  \\\n",
       "count                   188                  188   \n",
       "unique                  177                  161   \n",
       "top     2022-03-28 00:29:00  2022-03-28 00:29:00   \n",
       "freq                      7                   21   \n",
       "\n",
       "       Do you feel the True North report identified the key challenges and opportunities facing the region?   \\\n",
       "count                                                 188                                                      \n",
       "unique                                                  2                                                      \n",
       "top                                                   Yes                                                      \n",
       "freq                                                  181                                                      \n",
       "\n",
       "       Are you interested in attending future True North events?   \\\n",
       "count                                                 187           \n",
       "unique                                                  2           \n",
       "top                                                   Yes           \n",
       "freq                                                  185           \n",
       "\n",
       "       Are you currently a B Corp or in the process of becoming a B Corp?  \\\n",
       "count                                                 186                   \n",
       "unique                                                  2                   \n",
       "top                                                    No                   \n",
       "freq                                                  157                   \n",
       "\n",
       "       Would you be interested in hearing more from Brabners about the B Corp process?  \\\n",
       "count                                                 186                                \n",
       "unique                                                  2                                \n",
       "top                                                    No                                \n",
       "freq                                                  100                                \n",
       "\n",
       "        Company name    City        Industry sector    location  \\\n",
       "count            176     141             132    188          47   \n",
       "unique           165      70              50    146          19   \n",
       "top     Brabners LLP  London  Legal Services  Legal  Lancashire   \n",
       "freq               5      19              12      7           9   \n",
       "\n",
       "       Which theme of the True North report do you most identify with and could support activity around?  \\\n",
       "count                                                 188                                                  \n",
       "unique                                                 13                                                  \n",
       "top                         People, skills and the future                                                  \n",
       "freq                                                   58                                                  \n",
       "\n",
       "       How would you like to be involved with the True North network?  \\\n",
       "count                                                  47               \n",
       "unique                                                  7               \n",
       "top     Keeping informed about the latest True North n...               \n",
       "freq                                                   18               \n",
       "\n",
       "       company_size  \n",
       "count            47  \n",
       "unique            7  \n",
       "top             0-9  \n",
       "freq             21  "
      ]
     },
     "execution_count": 3,
     "metadata": {},
     "output_type": "execute_result"
    }
   ],
   "source": [
    "data.describe()"
   ]
  },
  {
   "cell_type": "code",
   "execution_count": 4,
   "metadata": {},
   "outputs": [
    {
     "name": "stdout",
     "output_type": "stream",
     "text": [
      "['2030hub' 'AHR' 'Abeceder' 'Access Creative College'\n",
      " 'Accountable Recruitment' 'Advanced Manufacturing Research Centre'\n",
      " 'Agent Marketing Ltd' 'Agile Automations' 'Armstrong Watson LLP' 'Azets'\n",
      " 'B-Engineering Group' 'BHP LLP'\n",
      " 'Bank of England (Agency for the North West)' 'Barton Legal Limited'\n",
      " 'Bicical' 'Big Hand 4 Business' 'Blackpool Council' 'Brabners LLP'\n",
      " 'Bruntwood' 'Business Doctors' 'Business Health Institute'\n",
      " 'Business of Science' 'CBI' 'Carbon Happy World' 'Cazenove Capital'\n",
      " 'Chris Shakespeare Coaching' 'Codurance' 'Cortus Advisory Group Limited'\n",
      " 'Coverdale Barclay' 'DES Group UK' 'Daneel Williams' 'Deloitte LLP'\n",
      " 'E-Rail' 'ESGmark' 'Elevategm' 'Endless LLP' 'Essential-Sourcing' 'F-LEX'\n",
      " 'Farrans (Construction) Limited' 'Finance Yorkshire' 'Fleetsolve Ltd'\n",
      " 'Fort Search' 'Fox Brothers' 'Fragomen' 'Freshfield'\n",
      " 'Giles Metcalfe Digital' 'Go-International' 'Gripple Limited'\n",
      " 'Group Rhodes' 'Groupsignature' 'HSBC' 'Handelsbanken'\n",
      " 'Harrowells Limited' 'Hawthorne & Burman' 'Headsrenewables'\n",
      " 'Highgrove Group' 'Huddersfield Town Foundation' 'Ice'\n",
      " 'J.P. Morgan & Co.' 'Jisc' 'LOVANIA NURSERIES LIMITED'\n",
      " \"Lagan's Foundation HQ\" 'Leeds Trinity University' 'LeedsBradfordAirport'\n",
      " 'Letsmad' 'Liverpolitan' 'Liverpool BID Company' 'Lloyds Bank Plc'\n",
      " 'Lloyds Banking Group plc' 'Lockton'\n",
      " 'MANCHESTER ALLIANCE FOR COMMUNITY CARE' 'MHA Moore & Smalley LLP'\n",
      " 'MKB Psychology' 'MPG' 'Marketing Manchester' 'Matchstick Creative'\n",
      " 'Mercia Asset Management PLC' 'Metro Bank' 'Morgan Sindall' 'Mott Mac'\n",
      " 'Mr Yorkshire' 'NFU Mutual' 'NatWest'\n",
      " 'National Federation of Self Employed & Small Businesses Limited'\n",
      " 'National Trust' 'Nevard Roland Executive Search' 'Newgate Comms'\n",
      " 'North & Western Lancashire Chamber of Commerce' 'Nuwaay' 'OPEN Media'\n",
      " 'Oakhill Veterinary Centre Ltd' 'Oakmount Property' 'Paceline'\n",
      " 'Partners & Limited' 'Pavilion Row' 'PelliTec' 'Pennington Choices'\n",
      " 'Ph.Creative' 'Pilkington-Oils' 'Playdale Playgrounds Ltd' 'Plumbs'\n",
      " 'Prince’s Trust' 'Professional Liverpool' 'Projentum' 'Pullans'\n",
      " 'Pure Blue Vision Ltd' 'Quantuma LLP' 'RSK Group Limited'\n",
      " 'RSM UK Group LLP' 'RUTHERFORD HR CONSULTING' 'Rebus Recruitment LTD'\n",
      " 'Red Diamond Recruitment Ltd' 'RoC Consulting' 'Roland Dransfield PR'\n",
      " 'Rossendalebc' 'Royal Bank of Scotland' 'SFS Group' 'SHE BUSINESS'\n",
      " 'SSE plc' 'Saffery LLP' 'Servo-Group' 'Sherrington Associates Ltd'\n",
      " 'Sitehop' 'Stone UK' 'Stonebond Properties' 'Stuart Bruce'\n",
      " 'Sustainable Ventures' 'TP Financial Solutions' 'TUBR Ltd' 'Talentloop'\n",
      " 'Tech North Advocates' 'Terence Anderson Chartered Building Surveyors'\n",
      " 'The Clatterbridge Cancer Centre NHS Foundation Trust'\n",
      " 'The Grammar School at Leeds' 'The Right Fuelcard Company' 'The Rumbler'\n",
      " 'TheBusinessDesk.com' 'Thomas Kneale & Co.' 'Ttmedia' 'UK FOR GOOD LTD'\n",
      " 'UKREiiF' 'University Of Manchester' 'University of Leeds'\n",
      " 'University of Liverpool' 'University of Salford' 'Viridium-Bc'\n",
      " 'Vista Insurance Brokers' 'Vistage UK' 'Walker Sime Ltd'\n",
      " 'Walking Food Tours UK' 'Weightmans LLP' 'Well North Enterprises'\n",
      " \"Women's Organisation\" 'Worn By Us' 'danaus.co.uk' 'emmasheldon.co.uk'\n",
      " 'faithbrandcomms.co.uk' 'gettubr.com' 'heeton.co.uk' 'iMS Systems'\n",
      " 'inCaseTM- Lavatech' 'marsdenstrategy.co.uk' 'mcwattjones' 'sitehop.com'\n",
      " 'tscg.ac.uk' nan]\n"
     ]
    }
   ],
   "source": [
    "company_names = pd.Series(data['Company name'].sort_values())\n",
    "print(company_names.unique())"
   ]
  },
  {
   "cell_type": "markdown",
   "metadata": {},
   "source": [
    "There is LLoyds banking group and lloyds bank plc - we're assuming these are different companies."
   ]
  },
  {
   "cell_type": "code",
   "execution_count": 5,
   "metadata": {},
   "outputs": [],
   "source": [
    "# convert the month column to a datetime object\n",
    "data['month'] = pd.to_datetime(data['Create Date'])\n",
    "\n",
    "#convert the item to a formatted value in yyyy-mm format.\n",
    "data['month_formatted'] = data['month'].apply(datetime.strftime, format='%Y-%m').sort_index(ascending=True)"
   ]
  },
  {
   "cell_type": "code",
   "execution_count": 6,
   "metadata": {},
   "outputs": [],
   "source": [
    "# take the number of members and calculate the number that joined each month.\n",
    "monthly_members = pd.DataFrame(data['month_formatted'].value_counts(ascending=False)).reset_index()"
   ]
  },
  {
   "cell_type": "code",
   "execution_count": 7,
   "metadata": {},
   "outputs": [],
   "source": [
    "monthly_orgs = data.drop_duplicates(subset='Company name', keep='last')\n",
    "monthly_orgs = pd.DataFrame(monthly_orgs['month_formatted'].value_counts(ascending=False)).reset_index()"
   ]
  },
  {
   "cell_type": "code",
   "execution_count": 8,
   "metadata": {},
   "outputs": [],
   "source": [
    "def decimal_date(data):\n",
    "    # make a unix timestamp column\n",
    "    data['timestamp'] = pd.to_datetime(data['month_formatted'], format='%Y-%m').astype(int) / 10**9\n",
    "    # make a decimal date and round to 2dp.\n",
    "    data['year'] = data['timestamp'].div((86400*365.25)).add(1970).round(2)\n",
    "    # drop the timestamp column\n",
    "    data.drop(columns='timestamp', inplace=True) \n",
    "    # set year and formatted month as the index so they aren't included in the cumsum.\n",
    "    data.set_index(['year', 'month_formatted'], inplace=True, append=True)\n",
    "\n",
    "    return data"
   ]
  },
  {
   "cell_type": "code",
   "execution_count": 9,
   "metadata": {},
   "outputs": [],
   "source": [
    "def calculate_cumsum(data, count_name):\n",
    "    # order by date, then do the cumsum. reset the index, drop the original index column as not needed\n",
    "    data = pd.DataFrame(data.sort_index(level=2).cumsum().reset_index().drop(columns='level_0'))\n",
    "    data.rename(columns={'count': f'{count_name}'}, inplace=True)\n",
    "    return data"
   ]
  },
  {
   "cell_type": "code",
   "execution_count": 10,
   "metadata": {},
   "outputs": [],
   "source": [
    "# apply above functions to data\n",
    "cs_monthly_members = calculate_cumsum(decimal_date(monthly_members), count_name='individuals')\n",
    "cs_monthly_orgs = calculate_cumsum(decimal_date(monthly_orgs), count_name='orgs')"
   ]
  },
  {
   "cell_type": "code",
   "execution_count": 11,
   "metadata": {},
   "outputs": [],
   "source": [
    "cs_merged = cs_monthly_members.merge(cs_monthly_orgs, how='inner', on=['year', 'month_formatted'])"
   ]
  },
  {
   "cell_type": "code",
   "execution_count": 12,
   "metadata": {},
   "outputs": [],
   "source": [
    "# write to file\n",
    "# cs_monthly_members.to_csv(os.path.join(SRC_DIR,'themes/true-north/membership/_data/cumsum_members.csv'), index=False)\n",
    "# cs_monthly_orgs.to_csv(os.path.join(SRC_DIR,'themes/true-north/membership/_data/cumsum_organisations.csv'), index=False)\n",
    "cs_merged.to_csv(os.path.join(SRC_DIR,'themes/true-north/membership/_data/cumsum.csv'), index=False)"
   ]
  }
 ],
 "metadata": {
  "kernelspec": {
   "display_name": "true-north-n9oHZhgB",
   "language": "python",
   "name": "python3"
  },
  "language_info": {
   "codemirror_mode": {
    "name": "ipython",
    "version": 3
   },
   "file_extension": ".py",
   "mimetype": "text/x-python",
   "name": "python",
   "nbconvert_exporter": "python",
   "pygments_lexer": "ipython3",
   "version": "3.12.3"
  }
 },
 "nbformat": 4,
 "nbformat_minor": 2
}
