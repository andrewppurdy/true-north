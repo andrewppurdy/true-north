{
 "cells": [
  {
   "cell_type": "markdown",
   "metadata": {},
   "source": [
    "Import some modules, and set up this notebook to read files correctly."
   ]
  },
  {
   "cell_type": "code",
   "execution_count": 72,
   "metadata": {},
   "outputs": [],
   "source": [
    "import os\n",
    "os.chdir('../..')\n",
    "from pipelines.util import *\n",
    "import pandas as pd"
   ]
  },
  {
   "cell_type": "markdown",
   "metadata": {},
   "source": [
    "Read the data file into a pandas dataframe"
   ]
  },
  {
   "cell_type": "code",
   "execution_count": 73,
   "metadata": {},
   "outputs": [],
   "source": [
    "data = pd.read_excel(os.path.join(WDIR, 'true-north/true_north_may_2024.xlsx'))\n",
    "data2 = pd.read_excel(os.path.join(WDIR, 'true-north/true_north_may_2024.xlsx'))"
   ]
  },
  {
   "cell_type": "markdown",
   "metadata": {},
   "source": [
    "Add a \"last_updated\" column which uses the 'last activity date' column if it exists, otherwise the create date."
   ]
  },
  {
   "cell_type": "code",
   "execution_count": 74,
   "metadata": {},
   "outputs": [],
   "source": [
    "# Currently have both create date (when the person filled the questionnaire for the first time) and the \"last_updated\"\n",
    "# date, which is the \"Last Activity Date\" iff it exists, otherwise it is the \"Create Date\"\n",
    "data['last_updated'] = data['Last Activity Date'].combine_first(data['Create Date'])"
   ]
  },
  {
   "cell_type": "markdown",
   "metadata": {},
   "source": [
    "Write a list of all the columns we don't need, and then remove them (drop) from the dataframe"
   ]
  },
  {
   "cell_type": "code",
   "execution_count": 75,
   "metadata": {},
   "outputs": [],
   "source": [
    "cols = [\n",
    "    'Marketing contact status',\n",
    "    'Last Activity Date',\n",
    "    'What sector do you operate in?',\n",
    "    'How did you hear about True North? [Other]',\n",
    "    'How did you hear about True North? ',\n",
    "    'Are there any other challenge areas you feel were not identified or reflected in the report? ',\n",
    "    'Can you share any companies or people in your network who you think would be interested in hearing about or being a part of future True North activity? ',\n",
    "    'Do you have any further recommendations of how Brabners can activate the True North network, or areas of focus you would recommend? ',\n",
    "    'Any other comments ',\n",
    "    'Added To List On',\n",
    "    'Country/Region',\n",
    "    'Create Date.1',\n",
    "    'Last Activity Date.1'\n",
    "    ]\n",
    "data.drop(columns=cols, inplace=True)"
   ]
  },
  {
   "cell_type": "markdown",
   "metadata": {},
   "source": [
    "In the following 4 code blocks this logic applies:\n",
    "- Make a list of columns that are the same question and need merging. \n",
    "- Merge them together with priority according to the order of the list. \n",
    "- If an entry exists, use that value. Otherwise, go to the next column.\n",
    "- Add this as a new, single column with a new title.\n",
    "- Remove the old columns from the dataframe."
   ]
  },
  {
   "cell_type": "code",
   "execution_count": 76,
   "metadata": {},
   "outputs": [],
   "source": [
    "cols = ['What sector(s) does your organisation operate in? [Other]', 'What sector(s) does your organisation operate in??', 'What sector(s) does your organisation operate in?']\n",
    "# cols are F,G,H\n",
    "# data['sector'] = data[cols[0]].combine_first(data[cols[1]]).combine_first(data[cols[2]])\n",
    "\n",
    "def combine_sectors(row):\n",
    "    if row[cols[2]] == 'Other - please specify':\n",
    "        return row[cols[0]]\n",
    "    elif pd.notnull(row[cols[1]]):\n",
    "        return row[cols[1]]\n",
    "    elif pd.notnull(row[cols[2]]):\n",
    "        return row[cols[2]]\n",
    "    else:\n",
    "        return None\n",
    "\n",
    "data['sector'] = data.apply(combine_sectors, axis=1)\n",
    "data.drop(columns=cols, inplace=True)"
   ]
  },
  {
   "cell_type": "code",
   "execution_count": 77,
   "metadata": {},
   "outputs": [],
   "source": [
    "cols = ['Where is your organisation based? Select all that apply', 'Where is your organisation based? Select all that apply [Other]']\n",
    "data['location'] = data[cols[0]].combine_first(data[cols[1]])\n",
    "data.drop(columns=cols, inplace=True)"
   ]
  },
  {
   "cell_type": "code",
   "execution_count": 78,
   "metadata": {},
   "outputs": [],
   "source": [
    "cols = ['Which theme of the True North report do you most identify with and could support activity around? (select all that apply)', \n",
    "        'Which theme of the True North report do you most identify with and could support activity around? ']\n",
    "data['Which theme of the True North report do you most identify with and could support activity around?'] = data[cols[0]].combine_first(data[cols[1]])\n",
    "data.drop(columns=cols, inplace=True)"
   ]
  },
  {
   "cell_type": "code",
   "execution_count": 79,
   "metadata": {},
   "outputs": [],
   "source": [
    "cols = ['How would you like to be involved with the True North network (select all that apply)? [Other]',\n",
    "        'How would you like to be involved with the True North network (select all that apply)?']\n",
    "data['How would you like to be involved with the True North network?'] = data[cols[0]].combine_first(data[cols[1]])\n",
    "data.drop(columns=cols, inplace=True)"
   ]
  },
  {
   "cell_type": "markdown",
   "metadata": {},
   "source": [
    "Mapping the company sizes onto the standard ranges. Assuming there are no edge cases.\n",
    "\n",
    "One company had both 1-10 and 11-50 as a company range. We've opted for the 10-49 range based on probability."
   ]
  },
  {
   "cell_type": "code",
   "execution_count": 80,
   "metadata": {},
   "outputs": [],
   "source": [
    "mapper = {'51 - 100': '50-99', '501 - 1,000': '500-999', '11 - 50': '10-49', '1 - 10': '0-9', '101 - 250': '100-249',\n",
    " '251 - 500': '250-499', '1 - 10; 11 - 50': '10-49'}\n",
    "data['company_size'] = data['How many people work in your organisation?'].replace(mapper)\n",
    "data.drop(columns='How many people work in your organisation?', inplace=True)"
   ]
  },
  {
   "cell_type": "markdown",
   "metadata": {},
   "source": [
    "Sort the values by last_updated date, with oldest at the top."
   ]
  },
  {
   "cell_type": "code",
   "execution_count": 81,
   "metadata": {},
   "outputs": [],
   "source": [
    "data.sort_values(by='last_updated', inplace=True, ascending=False)\n",
    "data.set_index('last_updated', inplace=True)"
   ]
  },
  {
   "cell_type": "markdown",
   "metadata": {},
   "source": [
    "We found that some entries are likely to be from the same company. Currently these are:\n",
    "- TUBR LTD; gettubr.com\n",
    "- Sitehop; Sitehop.com\n",
    "\n",
    "We will manually correct these, using the row with the actual company name (not url) as prioirity, and filling blanks with any entries (if present) from the other row."
   ]
  },
  {
   "cell_type": "code",
   "execution_count": 82,
   "metadata": {},
   "outputs": [],
   "source": [
    "def merge_duplicate_companies(data, names):\n",
    "    '''\n",
    "        Names is a list of 2 company names to merge. \n",
    "        First company name in the list is used as priority when merging.\n",
    "        Function assumes only 2 duplicate entries. Can be adjusted in future if we need to account for n duplicates.\n",
    "    '''\n",
    "    # reset the index to access data by a numeric index\n",
    "    data.reset_index(inplace=True)\n",
    "\n",
    "    # get the indices of the named rows\n",
    "    index_a = data.index[data['Company name'] == names[0]]\n",
    "    index_b = data.index[data['Company name'] == names[1]]\n",
    "\n",
    "    # combine the rows\n",
    "    combined_row = data.iloc[index_a].combine_first(data.iloc[index_b])\n",
    "\n",
    "    # insert the row into the dataframe at index_a \n",
    "    data.loc[index_a] = combined_row\n",
    "\n",
    "    # drop index b as no longer needed, reset the index and drop the old one, set the index to \"last_updated\".\n",
    "    data = data.drop(index_b).reset_index(drop=True).set_index('last_updated')\n",
    "\n",
    "    print('Successfully merged rows and created the following row: \\n', data.loc[data['Company name'] == names[0]].to_csv())\n",
    "\n",
    "    return data"
   ]
  },
  {
   "cell_type": "markdown",
   "metadata": {},
   "source": [
    "Using the above function, we merge the duplicate rows we spotted in turn by calling the function for each pair of duplicates."
   ]
  },
  {
   "cell_type": "code",
   "execution_count": 83,
   "metadata": {},
   "outputs": [
    {
     "name": "stdout",
     "output_type": "stream",
     "text": [
      "Successfully merged rows and created the following row: \n",
      " last_updated,Create Date,Do you feel the True North report identified the key challenges and opportunities facing the region? ,Are you interested in attending future True North events? ,Are you currently a B Corp or in the process of becoming a B Corp?,Would you be interested in hearing more from Brabners about the B Corp process?,Company name,City,Industry,sector,location,Which theme of the True North report do you most identify with and could support activity around?,How would you like to be involved with the True North network?,company_size\n",
      "2023-12-05 10:34:00,2023-12-05 10:34:00,No,Yes,No,No,TUBR Ltd,London,Computer Software,Hospitality,,Sustainable development,,\n",
      "\n",
      "Successfully merged rows and created the following row: \n",
      " last_updated,Create Date,Do you feel the True North report identified the key challenges and opportunities facing the region? ,Are you interested in attending future True North events? ,Are you currently a B Corp or in the process of becoming a B Corp?,Would you be interested in hearing more from Brabners about the B Corp process?,Company name,City,Industry,sector,location,Which theme of the True North report do you most identify with and could support activity around?,How would you like to be involved with the True North network?,company_size\n",
      "2023-12-21 16:00:00,2023-12-05 19:14:00,Yes,Yes,No,No,Sitehop,Sheffield,Computer Software,\"Communications, Telecommunications, Networking\",,Innovation and change,,\n",
      "\n"
     ]
    }
   ],
   "source": [
    "data = merge_duplicate_companies(data, ['TUBR Ltd', 'gettubr.com'])\n",
    "data = merge_duplicate_companies(data, ['Sitehop', 'sitehop.com'])"
   ]
  },
  {
   "cell_type": "markdown",
   "metadata": {},
   "source": [
    "Write the data to a csv called 'true_north_may_2024_clean\""
   ]
  },
  {
   "cell_type": "code",
   "execution_count": 84,
   "metadata": {},
   "outputs": [],
   "source": [
    "data.to_csv(os.path.join(WDIR, 'true-north/true_north_may_2024_clean.csv'))"
   ]
  }
 ],
 "metadata": {
  "kernelspec": {
   "display_name": "true-north-n9oHZhgB",
   "language": "python",
   "name": "python3"
  },
  "language_info": {
   "codemirror_mode": {
    "name": "ipython",
    "version": 3
   },
   "file_extension": ".py",
   "mimetype": "text/x-python",
   "name": "python",
   "nbconvert_exporter": "python",
   "pygments_lexer": "ipython3",
   "version": "3.12.3"
  }
 },
 "nbformat": 4,
 "nbformat_minor": 2
}
