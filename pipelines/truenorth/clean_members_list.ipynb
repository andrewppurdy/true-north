{
 "cells": [
  {
   "cell_type": "code",
   "execution_count": 1,
   "metadata": {},
   "outputs": [],
   "source": [
    "import os\n",
    "os.chdir('../..')\n",
    "from pipelines.util import *\n",
    "import pandas as pd"
   ]
  },
  {
   "cell_type": "code",
   "execution_count": 2,
   "metadata": {},
   "outputs": [],
   "source": [
    "data = pd.read_excel(os.path.join(WDIR, 'true-north/true_north_may_2024.xlsx'))"
   ]
  },
  {
   "cell_type": "code",
   "execution_count": 3,
   "metadata": {},
   "outputs": [],
   "source": [
    "# Currently have both create date (when the person filled the questionnaire for the first time) and the \"last_updated\"\n",
    "# date, which is the \"Last Activity Date\" iff it exists, otherwise it is the \"Create Date\"\n",
    "data['last_updated'] = data['Last Activity Date'].combine_first(data['Create Date'])"
   ]
  },
  {
   "cell_type": "code",
   "execution_count": 4,
   "metadata": {},
   "outputs": [],
   "source": [
    "cols = [\n",
    "    'Marketing contact status',\n",
    "    'Last Activity Date',\n",
    "    'What sector do you operate in?',\n",
    "    'How did you hear about True North? [Other]',\n",
    "    'How did you hear about True North? ',\n",
    "    'Are there any other challenge areas you feel were not identified or reflected in the report? ',\n",
    "    'Can you share any companies or people in your network who you think would be interested in hearing about or being a part of future True North activity? ',\n",
    "    'Do you have any further recommendations of how Brabners can activate the True North network, or areas of focus you would recommend? ',\n",
    "    'Any other comments ',\n",
    "    'Added To List On',\n",
    "    'Country/Region',\n",
    "    'Create Date.1',\n",
    "    'Last Activity Date.1'\n",
    "    ]\n",
    "data.drop(columns=cols, inplace=True)"
   ]
  },
  {
   "cell_type": "code",
   "execution_count": 5,
   "metadata": {},
   "outputs": [],
   "source": [
    "cols = ['What sector(s) does your organisation operate in?', 'What sector(s) does your organisation operate in??', 'What sector(s) does your organisation operate in? [Other]']\n",
    "data['sector'] = data[cols[0]].combine_first(data[cols[1]]).combine_first(data[cols[2]])\n",
    "data.drop(columns=cols, inplace=True)"
   ]
  },
  {
   "cell_type": "code",
   "execution_count": 6,
   "metadata": {},
   "outputs": [],
   "source": [
    "cols = ['Where is your organisation based? Select all that apply', 'Where is your organisation based? Select all that apply [Other]']\n",
    "data['location'] = data[cols[0]].combine_first(data[cols[1]])\n",
    "data.drop(columns=cols, inplace=True)"
   ]
  },
  {
   "cell_type": "code",
   "execution_count": 7,
   "metadata": {},
   "outputs": [],
   "source": [
    "cols = ['Which theme of the True North report do you most identify with and could support activity around? (select all that apply)', \n",
    "        'Which theme of the True North report do you most identify with and could support activity around? ']\n",
    "data['Which theme of the True North report do you most identify with and could support activity around?'] = data[cols[0]].combine_first(data[cols[1]])\n",
    "data.drop(columns=cols, inplace=True)"
   ]
  },
  {
   "cell_type": "code",
   "execution_count": 8,
   "metadata": {},
   "outputs": [],
   "source": [
    "cols = ['How would you like to be involved with the True North network (select all that apply)? [Other]',\n",
    "        'How would you like to be involved with the True North network (select all that apply)?']\n",
    "data['How would you like to be involved with the True North network?'] = data[cols[0]].combine_first(data[cols[1]])\n",
    "data.drop(columns=cols, inplace=True)"
   ]
  },
  {
   "cell_type": "code",
   "execution_count": 9,
   "metadata": {},
   "outputs": [],
   "source": [
    "mapper = {'51 - 100': '50-99', '501 - 1,000': '500-999', '11 - 50': '10-49', '1 - 10': '0-9', '101 - 250': '100-249',\n",
    " '251 - 500': '250-499', '1 - 10; 11 - 50': '10-49'}\n",
    "data['company_size'] = data['How many people work in your organisation?'].replace(mapper)\n",
    "data.drop(columns='How many people work in your organisation?', inplace=True)"
   ]
  },
  {
   "cell_type": "markdown",
   "metadata": {},
   "source": [
    "One company had both 1-10 and 11-50 as a company range. We've opted for the 10-49 range based on probability."
   ]
  },
  {
   "cell_type": "code",
   "execution_count": 10,
   "metadata": {},
   "outputs": [],
   "source": [
    "data.sort_values(by='last_updated', inplace=True, ascending=False)\n",
    "data.set_index('last_updated', inplace=True)"
   ]
  },
  {
   "cell_type": "code",
   "execution_count": 11,
   "metadata": {},
   "outputs": [],
   "source": [
    "data.to_csv(os.path.join(WDIR, 'true-north/true_north_may_2024_clean.csv'))"
   ]
  }
 ],
 "metadata": {
  "kernelspec": {
   "display_name": "true-north-n9oHZhgB",
   "language": "python",
   "name": "python3"
  },
  "language_info": {
   "codemirror_mode": {
    "name": "ipython",
    "version": 3
   },
   "file_extension": ".py",
   "mimetype": "text/x-python",
   "name": "python",
   "nbconvert_exporter": "python",
   "pygments_lexer": "ipython3",
   "version": "3.12.3"
  }
 },
 "nbformat": 4,
 "nbformat_minor": 2
}
